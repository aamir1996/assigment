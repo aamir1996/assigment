{
 "cells": [
  {
   "cell_type": "raw",
   "metadata": {},
   "source": [
    "Assignment 03"
   ]
  },
  {
   "cell_type": "code",
   "execution_count": 4,
   "metadata": {},
   "outputs": [
    {
     "name": "stdout",
     "output_type": "stream",
     "text": [
      "Enter a Number : 45\n",
      "Enter  an other Number : 21\n",
      "Enter operation eg (-,+,/,*,**): /\n",
      "Division of  45.0  and  21.0  is  2.142857142857143\n"
     ]
    }
   ],
   "source": [
    "# Assignment Qno#01\n",
    "No1 = float(input('Enter a Number : '))\n",
    "No2 = float(input('Enter  an other Number : '))\n",
    "operator = input('Enter operation eg (-,+,/,*,**): ')\n",
    "\n",
    "if (operator == '-'):\n",
    "    result = No1 - No2\n",
    "    print(\"Subtraction of \",No1,\" and \",No2,\" is \",result)\n",
    "elif(operator == '+'):\n",
    "    result = No1 + No2\n",
    "    print(\"Addition of \",No1,\" and \",No2,\" is \",result)\n",
    "elif(operator == '/'):\n",
    "    result = No1/No2\n",
    "    print(\"Division of \",No1,\" and \",No2,\" is \",result)\n",
    "elif(operator == '*'):\n",
    "    result = No1* No2\n",
    "    print(\"Multiplication of \",No1,\" and \",No2,\" is \",result)\n",
    "elif(operator == '**'):\n",
    "    result = No1 ** No2\n",
    "    print(No1,\" power \",No2,\" is: \",result)\n",
    "else:\n",
    "    print('Enter correct operator')\n"
   ]
  },
  {
   "cell_type": "code",
   "execution_count": 14,
   "metadata": {},
   "outputs": [
    {
     "name": "stdout",
     "output_type": "stream",
     "text": [
      "Found numeric value:  234\n",
      "Found numeric value:  30\n"
     ]
    }
   ],
   "source": [
    "#Assignment Qno#02\n",
    "List  = [\"Hello\", \"World\", 234, \"Python\", \"Programming\",False,30,0.331]\n",
    "\n",
    "for i in List:\n",
    "    if type(i) == int:\n",
    "        print(\"Found numeric value: \",i)"
   ]
  },
  {
   "cell_type": "code",
   "execution_count": 24,
   "metadata": {},
   "outputs": [
    {
     "name": "stdout",
     "output_type": "stream",
     "text": [
      "Before Update\n",
      "Info['Name']:  Asad\n",
      "Info['Age']:  23\n",
      "Info['Department']:  BSIT\n",
      "After Update\n",
      "Info['Name']:  Asad\n",
      "Info['Age']:  30\n",
      "Info['School']:  KBSAS Campus\n"
     ]
    }
   ],
   "source": [
    "#Assignment Qno#03 part A\n",
    "Info = {'Name': 'Asad', 'Age': 23, 'Department': 'BSIT'}\n",
    "\n",
    "print('''Before Update''')\n",
    "print (\"Info['Name']: \", Info['Name'])\n",
    "print (\"Info['Age']: \", Info['Age'])\n",
    "print (\"Info['Department']: \", Info['Department'])\n",
    "\n",
    "print('''After Update''')\n",
    "\n",
    "Info= {'Name': 'Asad', 'Age': 23, 'Department': 'BSIT'}\n",
    "Info['Age'] = 30; # update existing entry\n",
    "Info['School'] = \"KBSAS Campus\" # Add new entry\n",
    "\n",
    "print (\"Info['Name']: \", Info['Name'])\n",
    "print (\"Info['Age']: \", Info['Age'])\n",
    "print (\"Info['School']: \", Info['School'])"
   ]
  },
  {
   "cell_type": "code",
   "execution_count": 28,
   "metadata": {},
   "outputs": [
    {
     "name": "stdout",
     "output_type": "stream",
     "text": [
      "Before Update.\n",
      "{'Price1': 291, 'Price2': 485, 'Price3': 645}\n",
      "After Updating of Keys.\n",
      "{'Price1': 291, 'Price2': 485, 'Price3': 645, 'Price4': 258, 'Price5': 786}\n"
     ]
    }
   ],
   "source": [
    "#Assignment Qno#03 part B\n",
    "print('Before Update.')\n",
    "data = {\"Price1\":291, \"Price2\":485,\"Price3\":645}  \n",
    "print(data)\n",
    "\n",
    "print(\"After Updating of Keys.\")\n",
    "\n",
    "data.update({\"Price4\":258}) #1st Method\n",
    "data['Price5'] = 786  #2nd Method\n",
    "print(data)"
   ]
  },
  {
   "cell_type": "code",
   "execution_count": 29,
   "metadata": {},
   "outputs": [],
   "source": [
    "#4. Write a Python program to sum all the numeric items in a dictionary\n",
    "#5. Write a program to identify duplicate values from list\n",
    "#6. Write a Python script to check if a given key already exists in a dictionary\n",
    "#could not Get!!!"
   ]
  }
 ],
 "metadata": {
  "kernelspec": {
   "display_name": "Python 3",
   "language": "python",
   "name": "python3"
  },
  "language_info": {
   "codemirror_mode": {
    "name": "ipython",
    "version": 3
   },
   "file_extension": ".py",
   "mimetype": "text/x-python",
   "name": "python",
   "nbconvert_exporter": "python",
   "pygments_lexer": "ipython3",
   "version": "3.7.4"
  }
 },
 "nbformat": 4,
 "nbformat_minor": 2
}
